{
 "cells": [
  {
   "cell_type": "code",
   "execution_count": 1,
   "id": "b2e4aaff-edc3-4319-a095-0e525efaca16",
   "metadata": {},
   "outputs": [],
   "source": [
    "from sklearn.dummy import DummyClassifier\n",
    "import numpy as np"
   ]
  },
  {
   "cell_type": "code",
   "execution_count": 2,
   "id": "dd45025d-454c-4732-b8f2-60dad1a111ac",
   "metadata": {},
   "outputs": [
    {
     "name": "stdout",
     "output_type": "stream",
     "text": [
      "(267286, 1000, 6) (267286,)\n"
     ]
    }
   ],
   "source": [
    "np_array_store_file = f'/home/valentin-rexer/uni/UofM/datascience/datasets/len_500_data.npz'\n",
    "\n",
    "data = np.load(np_array_store_file)\n",
    "X = data['X']\n",
    "y = data['y']\n",
    "\n",
    "print(X.shape, y.shape)"
   ]
  },
  {
   "cell_type": "code",
   "execution_count": 3,
   "id": "5cf8ddb0-e9a5-4a12-a2b3-250dfef77ac2",
   "metadata": {},
   "outputs": [],
   "source": [
    "random_uniform = DummyClassifier(strategy='uniform')\n",
    "random_stratified = DummyClassifier(strategy='stratified')\n",
    "random_most_frequent = DummyClassifier(strategy='most_frequent')\n",
    "\n",
    "random_uniform.fit(X,y)\n",
    "random_stratified.fit(X,y) \n",
    "random_most_frequent.fit(X,y)\n",
    "\n",
    "preds_uniform = random_uniform.predict(X)\n",
    "preds_stratified = random_stratified.predict(X)\n",
    "preds_most_frequent = random_most_frequent.predict(X)"
   ]
  },
  {
   "cell_type": "code",
   "execution_count": 8,
   "id": "ca6453e6-65ff-44a9-ac69-6e282217e0f2",
   "metadata": {},
   "outputs": [
    {
     "name": "stdout",
     "output_type": "stream",
     "text": [
      "Uniform Strategy\n",
      "              precision    recall  f1-score   support\n",
      "\n",
      "           1       0.13      0.14      0.14     34487\n",
      "           2       0.34      0.14      0.20     92229\n",
      "           3       0.21      0.14      0.17     57191\n",
      "           4       0.09      0.14      0.11     25085\n",
      "           5       0.06      0.14      0.08     15498\n",
      "           6       0.11      0.14      0.12     28362\n",
      "           7       0.05      0.14      0.08     14434\n",
      "\n",
      "    accuracy                           0.14    267286\n",
      "   macro avg       0.14      0.14      0.13    267286\n",
      "weighted avg       0.21      0.14      0.16    267286\n",
      "\n",
      "Matthews Corrcoef: -0.00045362867542777233\n",
      "Accuracy: 0.1425439416954124\n",
      "Confusion Matrix:\n",
      " [[ 4954  4883  4918  4890  4887  4977  4978]\n",
      " [13222 13176 13137 13258 13187 13025 13224]\n",
      " [ 8243  8182  8061  8192  8173  8120  8220]\n",
      " [ 3596  3662  3621  3583  3487  3606  3530]\n",
      " [ 2216  2231  2192  2153  2228  2198  2280]\n",
      " [ 4046  4123  3942  4086  3998  4071  4096]\n",
      " [ 2071  2096  2064  2124  2037  2015  2027]]\n",
      "\n",
      "Stratified Strategy\n",
      "              precision    recall  f1-score   support\n",
      "\n",
      "           1       0.13      0.13      0.13     34487\n",
      "           2       0.35      0.35      0.35     92229\n",
      "           3       0.22      0.22      0.22     57191\n",
      "           4       0.09      0.09      0.09     25085\n",
      "           5       0.06      0.06      0.06     15498\n",
      "           6       0.11      0.11      0.11     28362\n",
      "           7       0.06      0.06      0.06     14434\n",
      "\n",
      "    accuracy                           0.21    267286\n",
      "   macro avg       0.14      0.14      0.14    267286\n",
      "weighted avg       0.21      0.21      0.21    267286\n",
      "\n",
      "Matthews Corrcoef: 0.001504527164682628\n",
      "Accuracy: 0.20914301534685692\n",
      "Confusion Matrix:\n",
      " [[ 4438 11945  7390  3260  2000  3633  1821]\n",
      " [11877 31972 19732  8724  5184  9778  4962]\n",
      " [ 7353 19824 12422  5344  3234  5998  3016]\n",
      " [ 3261  8512  5480  2328  1459  2677  1368]\n",
      " [ 2059  5253  3329  1467   909  1635   846]\n",
      " [ 3665  9736  5999  2773  1685  3006  1498]\n",
      " [ 1851  4923  3130  1393   810  1501   826]]\n",
      "\n",
      "Most Frequent Strategy\n",
      "              precision    recall  f1-score   support\n",
      "\n",
      "           1       0.00      0.00      0.00     34487\n",
      "           2       0.35      1.00      0.51     92229\n",
      "           3       0.00      0.00      0.00     57191\n",
      "           4       0.00      0.00      0.00     25085\n",
      "           5       0.00      0.00      0.00     15498\n",
      "           6       0.00      0.00      0.00     28362\n",
      "           7       0.00      0.00      0.00     14434\n",
      "\n",
      "    accuracy                           0.35    267286\n",
      "   macro avg       0.05      0.14      0.07    267286\n",
      "weighted avg       0.12      0.35      0.18    267286\n",
      "\n",
      "Matthews Corrcoef: 0.0\n",
      "Accuracy: 0.3450573542946507\n",
      "Confusion Matrix:\n",
      " [[    0 34487     0     0     0     0     0]\n",
      " [    0 92229     0     0     0     0     0]\n",
      " [    0 57191     0     0     0     0     0]\n",
      " [    0 25085     0     0     0     0     0]\n",
      " [    0 15498     0     0     0     0     0]\n",
      " [    0 28362     0     0     0     0     0]\n",
      " [    0 14434     0     0     0     0     0]]\n"
     ]
    },
    {
     "name": "stderr",
     "output_type": "stream",
     "text": [
      "/home/valentin-rexer/uni/UofM/datascience/dsvenv/lib/python3.12/site-packages/sklearn/metrics/_classification.py:1531: UndefinedMetricWarning: Precision is ill-defined and being set to 0.0 in labels with no predicted samples. Use `zero_division` parameter to control this behavior.\n",
      "  _warn_prf(average, modifier, f\"{metric.capitalize()} is\", len(result))\n",
      "/home/valentin-rexer/uni/UofM/datascience/dsvenv/lib/python3.12/site-packages/sklearn/metrics/_classification.py:1531: UndefinedMetricWarning: Precision is ill-defined and being set to 0.0 in labels with no predicted samples. Use `zero_division` parameter to control this behavior.\n",
      "  _warn_prf(average, modifier, f\"{metric.capitalize()} is\", len(result))\n",
      "/home/valentin-rexer/uni/UofM/datascience/dsvenv/lib/python3.12/site-packages/sklearn/metrics/_classification.py:1531: UndefinedMetricWarning: Precision is ill-defined and being set to 0.0 in labels with no predicted samples. Use `zero_division` parameter to control this behavior.\n",
      "  _warn_prf(average, modifier, f\"{metric.capitalize()} is\", len(result))\n"
     ]
    }
   ],
   "source": [
    "from sklearn.metrics import classification_report,accuracy_score , confusion_matrix, matthews_corrcoef\n",
    "\n",
    "# Print metrics for \"uniform\"\n",
    "print(\"Uniform Strategy\")\n",
    "print(classification_report(y, preds_uniform))\n",
    "print(\"Matthews Corrcoef:\", matthews_corrcoef(y, preds_uniform))\n",
    "print(\"Accuracy:\", accuracy_score(y, preds_uniform))\n",
    "print(\"Confusion Matrix:\\n\", confusion_matrix(y, preds_uniform))\n",
    "\n",
    "# Print metrics for \"stratified\"\n",
    "print(\"\\nStratified Strategy\")\n",
    "print(classification_report(y, preds_stratified))\n",
    "print(\"Matthews Corrcoef:\", matthews_corrcoef(y, preds_stratified))\n",
    "print(\"Accuracy:\", accuracy_score(y, preds_stratified))\n",
    "print(\"Confusion Matrix:\\n\", confusion_matrix(y, preds_stratified))\n",
    "\n",
    "# Print metrics for \"most_frequent\"\n",
    "print(\"\\nMost Frequent Strategy\")\n",
    "print(classification_report(y, preds_most_frequent))\n",
    "print(\"Matthews Corrcoef:\", matthews_corrcoef(y, preds_most_frequent))\n",
    "print(\"Accuracy:\", accuracy_score(y, preds_most_frequent))\n",
    "print(\"Confusion Matrix:\\n\", confusion_matrix(y, preds_most_frequent))\n"
   ]
  },
  {
   "cell_type": "code",
   "execution_count": null,
   "id": "cb424b85-8131-4add-b107-401c3cd25ff4",
   "metadata": {},
   "outputs": [],
   "source": []
  }
 ],
 "metadata": {
  "kernelspec": {
   "display_name": "Python 3 (ipykernel)",
   "language": "python",
   "name": "python3"
  },
  "language_info": {
   "codemirror_mode": {
    "name": "ipython",
    "version": 3
   },
   "file_extension": ".py",
   "mimetype": "text/x-python",
   "name": "python",
   "nbconvert_exporter": "python",
   "pygments_lexer": "ipython3",
   "version": "3.12.3"
  }
 },
 "nbformat": 4,
 "nbformat_minor": 5
}
