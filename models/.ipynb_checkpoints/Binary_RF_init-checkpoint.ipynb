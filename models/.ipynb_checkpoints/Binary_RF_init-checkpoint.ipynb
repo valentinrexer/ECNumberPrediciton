{
 "cells": [
  {
   "cell_type": "code",
   "execution_count": 1,
   "id": "90e687ce-6cc9-4b36-ac48-b1f876ed9d39",
   "metadata": {},
   "outputs": [],
   "source": [
    "import numpy as np"
   ]
  },
  {
   "cell_type": "code",
   "execution_count": 2,
   "id": "541cca7e-0796-4cba-a5b2-3dd638513af7",
   "metadata": {},
   "outputs": [
    {
     "name": "stdout",
     "output_type": "stream",
     "text": [
      "(267286, 1000, 6) (267286,)\n"
     ]
    }
   ],
   "source": [
    "np_array_store_file = f'/home/valentin-rexer/uni/UofM/datascience/datasets/len_500_data.npz'\n",
    "\n",
    "data = np.load(np_array_store_file)\n",
    "X = data['X']\n",
    "y = data['y']\n",
    "\n",
    "print(X.shape, y.shape)"
   ]
  },
  {
   "cell_type": "code",
   "execution_count": 3,
   "id": "bed98b0a-7f74-4c71-8eed-2fe515eb45c4",
   "metadata": {},
   "outputs": [],
   "source": [
    "from sklearn.model_selection import train_test_split\n",
    "\n",
    "def make_split_for_binary_class(X, y, kept_label, out_path, train_split_size=0.9, random_state=42):\n",
    "    y_modified = np.where(y != kept_label, 0, y)\n",
    "    \n",
    "    X_train, X_test, y_train, y_test = train_test_split(X, y_modified, train_size=train_split_size, random_state=random_state)\n",
    "\n",
    "    out_file = f'{out_path}/dataset_label_{kept_label}.npz'\n",
    "    with open(out_file, 'w') as f:\n",
    "        f.write('')\n",
    "    \n",
    "    np.savez(out_file, X_train=X_train, X_test=X_test, y_train=y_train, y_test=y_test)\n",
    "    \n",
    "    return out_file "
   ]
  },
  {
   "cell_type": "code",
   "execution_count": 4,
   "id": "f0d01035-fced-49dc-8fc5-6cce1232779e",
   "metadata": {},
   "outputs": [],
   "source": [
    "data_path = '/home/valentin-rexer/uni/UofM/datascience/data_RFs'"
   ]
  },
  {
   "cell_type": "code",
   "execution_count": 5,
   "id": "fcab6d31-b37e-45ce-a2a8-17d9591a7ec6",
   "metadata": {},
   "outputs": [
    {
     "name": "stdout",
     "output_type": "stream",
     "text": [
      "processed label 1\n",
      "processed label 2\n",
      "processed label 3\n",
      "processed label 4\n",
      "processed label 5\n",
      "processed label 6\n",
      "processed label 7\n"
     ]
    }
   ],
   "source": [
    "class_labels = [i for i in range(1,8)]\n",
    "class_paths = []\n",
    "\n",
    "for cl in class_labels:\n",
    "    class_paths.append(make_split_for_binary_class(X, y, cl, data_path))\n",
    "    print(f'processed label {cl}')"
   ]
  },
  {
   "cell_type": "code",
   "execution_count": 16,
   "id": "2ed623e5-eaba-4207-a6d0-5608d6ba1ffe",
   "metadata": {},
   "outputs": [
    {
     "name": "stdout",
     "output_type": "stream",
     "text": [
      "(240557, 6000)\n",
      "(240557,)\n",
      "(26729, 6000)\n",
      "(26729,)\n",
      "[0 3]\n",
      "[0 3]\n"
     ]
    }
   ],
   "source": [
    "data_path = f'/home/valentin-rexer/uni/UofM/datascience/data_RFs/dataset_label_3.npz'\n",
    "\n",
    "\n",
    "data = np.load(data_path)\n",
    "\n",
    "X_train = data['X_train']\n",
    "y_train = data['y_train']\n",
    "\n",
    "X_test = data['X_test']\n",
    "y_test = data['y_test']\n",
    "\n",
    "X_train = X_train.reshape(X_train.shape[0], -1)\n",
    "X_test = X_test.reshape(X_test.shape[0], -1)\n",
    "\n",
    "print(X_train.shape)\n",
    "print(y_train.shape)\n",
    "\n",
    "print(X_test.shape)\n",
    "print(y_test.shape)\n",
    "\n",
    "print(np.unique(y_train))\n",
    "print(np.unique(y_test))"
   ]
  },
  {
   "cell_type": "code",
   "execution_count": 2,
   "id": "153a68dc-6d8b-4556-8cd3-49f521679807",
   "metadata": {},
   "outputs": [],
   "source": [
    "from sklearn.ensemble import RandomForestClassifier\n",
    "import joblib\n",
    "import numpy as np\n",
    "\n",
    "def train_new_RFC(out_path, input_data, name,  n_estimators, random_state=42):\n",
    "    data = np.load(input_data)\n",
    "    model_path = f\"{out_path}/{name}.joblib\"\n",
    "    \n",
    "    X_train = data['X_train']\n",
    "    y_train = data['y_train']\n",
    "\n",
    "    X_train = X_train.reshape(X_train.shape[0], -1)\n",
    "\n",
    "    print(X_train.shape)\n",
    "    print(y_train.shape)\n",
    "    \n",
    "\n",
    "    rfc = RandomForestClassifier(n_estimators=n_estimators, random_state=random_state)\n",
    "    rfc.fit(X_train, y_train)\n",
    "\n",
    "    joblib.dump(rfc, model_path)\n",
    "\n",
    "    return model_path"
   ]
  },
  {
   "cell_type": "code",
   "execution_count": 3,
   "id": "4a7171be-8d82-40fd-93b6-2c494609ebeb",
   "metadata": {},
   "outputs": [],
   "source": [
    "import joblib\n",
    "from sklearn.metrics import classification_report, accuracy_score, confusion_matrix, matthews_corrcoef\n",
    "import numpy as np\n",
    "\n",
    "def eval_RFC(model_path, data_path):\n",
    "    rfc_predictor = joblib.load(model_path)\n",
    "    print(rfc_predictor.classes_)\n",
    "    data = np.load(data_path)\n",
    "    \n",
    "    X_test = data['X_test']\n",
    "    y_test = data['y_test']\n",
    "\n",
    "    X_test = X_test.reshape(X_test.shape[0], -1)\n",
    "\n",
    "    print(X_test.shape)\n",
    "    print(y_test.shape)\n",
    "\n",
    "    preds = rfc_predictor.predict(X_test)\n",
    "\n",
    "    print(accuracy_score(y_test, preds), '\\n')\n",
    "    print(classification_report(y_test, preds), '\\n')\n",
    "    print(matthews_corrcoef(y_test, preds), '\\n')\n",
    "    print(confusion_matrix(y_test, preds))"
   ]
  },
  {
   "cell_type": "code",
   "execution_count": 4,
   "id": "49f2ba7d-8ee4-4d8f-b88e-029f4cad4a6a",
   "metadata": {},
   "outputs": [
    {
     "name": "stdout",
     "output_type": "stream",
     "text": [
      "Processing label 1\n",
      "(240557, 6000)\n",
      "(240557,)\n",
      "Processing label 2\n",
      "(240557, 6000)\n",
      "(240557,)\n",
      "Processing label 3\n",
      "(240557, 6000)\n",
      "(240557,)\n",
      "Processing label 4\n",
      "(240557, 6000)\n",
      "(240557,)\n",
      "Processing label 5\n",
      "(240557, 6000)\n",
      "(240557,)\n",
      "Processing label 6\n",
      "(240557, 6000)\n",
      "(240557,)\n",
      "Processing label 7\n",
      "(240557, 6000)\n",
      "(240557,)\n"
     ]
    }
   ],
   "source": [
    "out_folder = '/home/valentin-rexer/uni/UofM/datascience/models_RF'\n",
    "\n",
    "for i in range(1,8):\n",
    "    print(f'Processing label {i}')\n",
    "    data_path = f'/home/valentin-rexer/uni/UofM/datascience/data_RFs/dataset_label_{i}.npz'\n",
    "    rf = train_new_RFC(out_folder, data_path, f'RF{i}', 300)"
   ]
  },
  {
   "cell_type": "code",
   "execution_count": 7,
   "id": "a66eefb2-a4fc-443f-b991-353e46c5d673",
   "metadata": {},
   "outputs": [
    {
     "name": "stdout",
     "output_type": "stream",
     "text": [
      "[0 1]\n",
      "(26729, 6000)\n",
      "(26729,)\n",
      "0.9462381682816416 \n",
      "\n",
      "              precision    recall  f1-score   support\n",
      "\n",
      "           0       0.94      1.00      0.97     23357\n",
      "           1       1.00      0.57      0.73      3372\n",
      "\n",
      "    accuracy                           0.95     26729\n",
      "   macro avg       0.97      0.79      0.85     26729\n",
      "weighted avg       0.95      0.95      0.94     26729\n",
      " \n",
      "\n",
      "0.7352447525679979 \n",
      "\n",
      "[[23357     0]\n",
      " [ 1437  1935]]\n",
      "[0 2]\n",
      "(26729, 6000)\n",
      "(26729,)\n",
      "0.8919899734370909 \n",
      "\n",
      "              precision    recall  f1-score   support\n",
      "\n",
      "           0       0.86      1.00      0.92     17420\n",
      "           2       1.00      0.69      0.82      9309\n",
      "\n",
      "    accuracy                           0.89     26729\n",
      "   macro avg       0.93      0.85      0.87     26729\n",
      "weighted avg       0.91      0.89      0.89     26729\n",
      " \n",
      "\n",
      "0.7687910074489007 \n",
      "\n",
      "[[17401    19]\n",
      " [ 2868  6441]]\n",
      "[0 3]\n",
      "(26729, 6000)\n",
      "(26729,)\n",
      "0.916532605035729 \n",
      "\n",
      "              precision    recall  f1-score   support\n",
      "\n",
      "           0       0.90      1.00      0.95     21073\n",
      "           3       1.00      0.61      0.75      5656\n",
      "\n",
      "    accuracy                           0.92     26729\n",
      "   macro avg       0.95      0.80      0.85     26729\n",
      "weighted avg       0.92      0.92      0.91     26729\n",
      " \n",
      "\n",
      "0.7398818797006294 \n",
      "\n",
      "[[21069     4]\n",
      " [ 2227  3429]]\n",
      "[0 4]\n",
      "(26729, 6000)\n",
      "(26729,)\n",
      "0.969022410116353 \n",
      "\n",
      "              precision    recall  f1-score   support\n",
      "\n",
      "           0       0.97      1.00      0.98     24133\n",
      "           4       1.00      0.68      0.81      2596\n",
      "\n",
      "    accuracy                           0.97     26729\n",
      "   macro avg       0.98      0.84      0.90     26729\n",
      "weighted avg       0.97      0.97      0.97     26729\n",
      " \n",
      "\n",
      "0.8114531539038705 \n",
      "\n",
      "[[24133     0]\n",
      " [  828  1768]]\n",
      "[0 5]\n",
      "(26729, 6000)\n",
      "(26729,)\n",
      "0.9804706498559617 \n",
      "\n",
      "              precision    recall  f1-score   support\n",
      "\n",
      "           0       0.98      1.00      0.99     25187\n",
      "           5       1.00      0.66      0.80      1542\n",
      "\n",
      "    accuracy                           0.98     26729\n",
      "   macro avg       0.99      0.83      0.89     26729\n",
      "weighted avg       0.98      0.98      0.98     26729\n",
      " \n",
      "\n",
      "0.805014175581335 \n",
      "\n",
      "[[25187     0]\n",
      " [  522  1020]]\n",
      "[0 6]\n",
      "(26729, 6000)\n",
      "(26729,)\n",
      "0.9689849975681843 \n",
      "\n",
      "              precision    recall  f1-score   support\n",
      "\n",
      "           0       0.97      1.00      0.98     23890\n",
      "           6       1.00      0.71      0.83      2839\n",
      "\n",
      "    accuracy                           0.97     26729\n",
      "   macro avg       0.98      0.85      0.91     26729\n",
      "weighted avg       0.97      0.97      0.97     26729\n",
      " \n",
      "\n",
      "0.8271951103016609 \n",
      "\n",
      "[[23890     0]\n",
      " [  829  2010]]\n",
      "[0 7]\n",
      "(26729, 6000)\n",
      "(26729,)\n",
      "0.9863444199184407 \n",
      "\n",
      "              precision    recall  f1-score   support\n",
      "\n",
      "           0       0.99      1.00      0.99     25314\n",
      "           7       1.00      0.74      0.85      1415\n",
      "\n",
      "    accuracy                           0.99     26729\n",
      "   macro avg       0.99      0.87      0.92     26729\n",
      "weighted avg       0.99      0.99      0.99     26729\n",
      " \n",
      "\n",
      "0.8552789115477136 \n",
      "\n",
      "[[25314     0]\n",
      " [  365  1050]]\n"
     ]
    }
   ],
   "source": [
    "for i in range(1,8):\n",
    "    path_to_model = f'/home/valentin-rexer/uni/UofM/datascience/models_RF/RF{i}.joblib'\n",
    "    data_path = f'/home/valentin-rexer/uni/UofM/datascience/data_RFs/dataset_label_{i}.npz'\n",
    "    eval_RFC(path_to_model, data_path)"
   ]
  },
  {
   "cell_type": "code",
   "execution_count": 6,
   "id": "51202a43-e790-46aa-aebf-6e1f38bc5ebb",
   "metadata": {},
   "outputs": [
    {
     "name": "stdout",
     "output_type": "stream",
     "text": [
      "[0 1]\n",
      "(26729, 6000)\n",
      "(26729,)\n",
      "0.8746679636350032 \n",
      "\n",
      "              precision    recall  f1-score   support\n",
      "\n",
      "           0       0.94      0.92      0.93     25314\n",
      "           1       0.00      0.00      0.00         0\n",
      "           7       0.00      0.00      0.00      1415\n",
      "\n",
      "    accuracy                           0.87     26729\n",
      "   macro avg       0.31      0.31      0.31     26729\n",
      "weighted avg       0.89      0.87      0.88     26729\n",
      " \n",
      "\n",
      "-0.033024406592619196 \n",
      "\n",
      "[[23379  1935     0]\n",
      " [    0     0     0]\n",
      " [ 1415     0     0]]\n"
     ]
    },
    {
     "name": "stderr",
     "output_type": "stream",
     "text": [
      "/home/valentin-rexer/uni/UofM/datascience/dsvenv/lib/python3.12/site-packages/sklearn/metrics/_classification.py:1531: UndefinedMetricWarning: Precision is ill-defined and being set to 0.0 in labels with no predicted samples. Use `zero_division` parameter to control this behavior.\n",
      "  _warn_prf(average, modifier, f\"{metric.capitalize()} is\", len(result))\n",
      "/home/valentin-rexer/uni/UofM/datascience/dsvenv/lib/python3.12/site-packages/sklearn/metrics/_classification.py:1531: UndefinedMetricWarning: Recall is ill-defined and being set to 0.0 in labels with no true samples. Use `zero_division` parameter to control this behavior.\n",
      "  _warn_prf(average, modifier, f\"{metric.capitalize()} is\", len(result))\n",
      "/home/valentin-rexer/uni/UofM/datascience/dsvenv/lib/python3.12/site-packages/sklearn/metrics/_classification.py:1531: UndefinedMetricWarning: Precision is ill-defined and being set to 0.0 in labels with no predicted samples. Use `zero_division` parameter to control this behavior.\n",
      "  _warn_prf(average, modifier, f\"{metric.capitalize()} is\", len(result))\n",
      "/home/valentin-rexer/uni/UofM/datascience/dsvenv/lib/python3.12/site-packages/sklearn/metrics/_classification.py:1531: UndefinedMetricWarning: Recall is ill-defined and being set to 0.0 in labels with no true samples. Use `zero_division` parameter to control this behavior.\n",
      "  _warn_prf(average, modifier, f\"{metric.capitalize()} is\", len(result))\n",
      "/home/valentin-rexer/uni/UofM/datascience/dsvenv/lib/python3.12/site-packages/sklearn/metrics/_classification.py:1531: UndefinedMetricWarning: Precision is ill-defined and being set to 0.0 in labels with no predicted samples. Use `zero_division` parameter to control this behavior.\n",
      "  _warn_prf(average, modifier, f\"{metric.capitalize()} is\", len(result))\n",
      "/home/valentin-rexer/uni/UofM/datascience/dsvenv/lib/python3.12/site-packages/sklearn/metrics/_classification.py:1531: UndefinedMetricWarning: Recall is ill-defined and being set to 0.0 in labels with no true samples. Use `zero_division` parameter to control this behavior.\n",
      "  _warn_prf(average, modifier, f\"{metric.capitalize()} is\", len(result))\n"
     ]
    }
   ],
   "source": []
  },
  {
   "cell_type": "code",
   "execution_count": null,
   "id": "ec54ae0d-8e14-4d49-a782-8d7f7fcec823",
   "metadata": {},
   "outputs": [],
   "source": []
  }
 ],
 "metadata": {
  "kernelspec": {
   "display_name": "Python 3 (ipykernel)",
   "language": "python",
   "name": "python3"
  },
  "language_info": {
   "codemirror_mode": {
    "name": "ipython",
    "version": 3
   },
   "file_extension": ".py",
   "mimetype": "text/x-python",
   "name": "python",
   "nbconvert_exporter": "python",
   "pygments_lexer": "ipython3",
   "version": "3.12.3"
  }
 },
 "nbformat": 4,
 "nbformat_minor": 5
}
