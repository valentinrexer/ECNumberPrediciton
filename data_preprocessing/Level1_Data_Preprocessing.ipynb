{
 "cells": [
  {
   "cell_type": "code",
   "execution_count": 5,
   "id": "d8573e57-1c0e-4d5d-92b6-7d9989eadd28",
   "metadata": {},
   "outputs": [],
   "source": [
    "#packages for reading data from the database and storing them in a pandas.DataFrame\n",
    "\n",
    "import pandas as pd\n",
    "import sqlite3"
   ]
  },
  {
   "cell_type": "code",
   "execution_count": 6,
   "id": "f831e654-0b44-4baf-b00c-653419f6c364",
   "metadata": {},
   "outputs": [],
   "source": [
    "path_to_big_db = '/home/valentin-rexer/uni/UofM/datascience/datasets/swissprot.dat.db'"
   ]
  },
  {
   "cell_type": "code",
   "execution_count": 7,
   "id": "e64ba5d6-2bd3-4765-9c8e-1589ca61aaf8",
   "metadata": {},
   "outputs": [],
   "source": [
    "# each EC number level is a seperate column in our dataframe \n",
    "# therefore, we can extract trianing data for a class of our choice from the same df\n",
    "\n",
    "out_columns=['EC1', 'EC2', 'EC3', 'EC4', 'Sequence']\n",
    "out_db_df = pd.DataFrame(columns=out_columns)"
   ]
  },
  {
   "cell_type": "code",
   "execution_count": 8,
   "id": "a3c0a9dc-23ca-4efe-aca5-b7923abf776a",
   "metadata": {},
   "outputs": [],
   "source": [
    "#retireve the EC_numbers and Sequences from the database\n",
    "\n",
    "big_db_df = pd.read_sql_query(f'SELECT EC_Number, Sequence FROM sw_table', sqlite3.connect(path_to_big_db))"
   ]
  },
  {
   "cell_type": "code",
   "execution_count": 9,
   "id": "064530b2-37f9-4817-97b2-66029c0e4b6d",
   "metadata": {},
   "outputs": [],
   "source": [
    "# iterate over all tuples and split the EC numbers into four single columns\n",
    "import re\n",
    "\n",
    "out_rows = []\n",
    "\n",
    "for row in big_db_df.itertuples():\n",
    "    current_ec = row[1].replace('EC_Number=', '').replace('-','0')\n",
    "    current_seq = row[2].replace('Sequence=', '')\n",
    "    current_seq = re.sub(r\"[UZOB]\", \"X\", current_seq)\n",
    "    \n",
    "    new_db_entry = []\n",
    "\n",
    "    for level in current_ec.split('.'):\n",
    "        new_db_entry.append(int(level))\n",
    "\n",
    "    new_db_entry.append(current_seq)\n",
    "    out_rows.append(dict(zip(out_columns, new_db_entry)))\n"
   ]
  },
  {
   "cell_type": "code",
   "execution_count": 10,
   "id": "7bc80529-2940-4b4d-981b-c9bf183da754",
   "metadata": {},
   "outputs": [
    {
     "data": {
      "text/html": [
       "<div>\n",
       "<style scoped>\n",
       "    .dataframe tbody tr th:only-of-type {\n",
       "        vertical-align: middle;\n",
       "    }\n",
       "\n",
       "    .dataframe tbody tr th {\n",
       "        vertical-align: top;\n",
       "    }\n",
       "\n",
       "    .dataframe thead th {\n",
       "        text-align: right;\n",
       "    }\n",
       "</style>\n",
       "<table border=\"1\" class=\"dataframe\">\n",
       "  <thead>\n",
       "    <tr style=\"text-align: right;\">\n",
       "      <th></th>\n",
       "      <th>EC1</th>\n",
       "      <th>EC2</th>\n",
       "      <th>EC3</th>\n",
       "      <th>EC4</th>\n",
       "      <th>Sequence</th>\n",
       "    </tr>\n",
       "  </thead>\n",
       "  <tbody>\n",
       "    <tr>\n",
       "      <th>0</th>\n",
       "      <td>3</td>\n",
       "      <td>6</td>\n",
       "      <td>4</td>\n",
       "      <td>0</td>\n",
       "      <td>MDTSPYDFLKLYPWLSRGEADKGTLLDAFPGETFEQSLASDVAMRR...</td>\n",
       "    </tr>\n",
       "    <tr>\n",
       "      <th>1</th>\n",
       "      <td>2</td>\n",
       "      <td>7</td>\n",
       "      <td>11</td>\n",
       "      <td>1</td>\n",
       "      <td>MATNYCDEFERNPTRNPRTGRTIKRGGPVFRALERECSDGAARVFP...</td>\n",
       "    </tr>\n",
       "    <tr>\n",
       "      <th>2</th>\n",
       "      <td>2</td>\n",
       "      <td>7</td>\n",
       "      <td>11</td>\n",
       "      <td>0</td>\n",
       "      <td>MPLSVFAEEFAEKSVKRYIGQGLWLPCNLSDYYYYQEFHDEGGYGS...</td>\n",
       "    </tr>\n",
       "    <tr>\n",
       "      <th>3</th>\n",
       "      <td>3</td>\n",
       "      <td>6</td>\n",
       "      <td>4</td>\n",
       "      <td>0</td>\n",
       "      <td>MAKLLRLNAIDGDMPGAGEADLFTLAPGGKAYVPFAWGSRVLGCKP...</td>\n",
       "    </tr>\n",
       "    <tr>\n",
       "      <th>4</th>\n",
       "      <td>3</td>\n",
       "      <td>6</td>\n",
       "      <td>1</td>\n",
       "      <td>0</td>\n",
       "      <td>MDNETSTPDIFQWCVSPFSKITLKRSMEQRDIVEFRIDATILRQIF...</td>\n",
       "    </tr>\n",
       "    <tr>\n",
       "      <th>...</th>\n",
       "      <td>...</td>\n",
       "      <td>...</td>\n",
       "      <td>...</td>\n",
       "      <td>...</td>\n",
       "      <td>...</td>\n",
       "    </tr>\n",
       "    <tr>\n",
       "      <th>276668</th>\n",
       "      <td>3</td>\n",
       "      <td>4</td>\n",
       "      <td>19</td>\n",
       "      <td>12</td>\n",
       "      <td>MLSCDICGETVTSEPDMKAHLIVHMENEIVCPFCKLSGVSYDEMCF...</td>\n",
       "    </tr>\n",
       "    <tr>\n",
       "      <th>276669</th>\n",
       "      <td>3</td>\n",
       "      <td>4</td>\n",
       "      <td>19</td>\n",
       "      <td>12</td>\n",
       "      <td>MLSCNICGETVNSEPDMKAHLIVHMENEIICPFCKLSGINYNEICF...</td>\n",
       "    </tr>\n",
       "    <tr>\n",
       "      <th>276670</th>\n",
       "      <td>3</td>\n",
       "      <td>4</td>\n",
       "      <td>19</td>\n",
       "      <td>12</td>\n",
       "      <td>MLSCDICGETVTSEPDRKAHLIVHMENEIICPFCKLSGINYNEMCF...</td>\n",
       "    </tr>\n",
       "    <tr>\n",
       "      <th>276671</th>\n",
       "      <td>2</td>\n",
       "      <td>7</td>\n",
       "      <td>11</td>\n",
       "      <td>1</td>\n",
       "      <td>MSGGKSGTKLSSFQNLQQIGQGGFGVVYSAQRENGEKVAIKKIGNA...</td>\n",
       "    </tr>\n",
       "    <tr>\n",
       "      <th>276672</th>\n",
       "      <td>2</td>\n",
       "      <td>7</td>\n",
       "      <td>11</td>\n",
       "      <td>1</td>\n",
       "      <td>MSGGKSGSRLSAYSHLKEIGKGGFGVVYAAQRENGEKVAIKRIDKK...</td>\n",
       "    </tr>\n",
       "  </tbody>\n",
       "</table>\n",
       "<p>276673 rows × 5 columns</p>\n",
       "</div>"
      ],
      "text/plain": [
       "        EC1  EC2  EC3  EC4                                           Sequence\n",
       "0         3    6    4    0  MDTSPYDFLKLYPWLSRGEADKGTLLDAFPGETFEQSLASDVAMRR...\n",
       "1         2    7   11    1  MATNYCDEFERNPTRNPRTGRTIKRGGPVFRALERECSDGAARVFP...\n",
       "2         2    7   11    0  MPLSVFAEEFAEKSVKRYIGQGLWLPCNLSDYYYYQEFHDEGGYGS...\n",
       "3         3    6    4    0  MAKLLRLNAIDGDMPGAGEADLFTLAPGGKAYVPFAWGSRVLGCKP...\n",
       "4         3    6    1    0  MDNETSTPDIFQWCVSPFSKITLKRSMEQRDIVEFRIDATILRQIF...\n",
       "...     ...  ...  ...  ...                                                ...\n",
       "276668    3    4   19   12  MLSCDICGETVTSEPDMKAHLIVHMENEIVCPFCKLSGVSYDEMCF...\n",
       "276669    3    4   19   12  MLSCNICGETVNSEPDMKAHLIVHMENEIICPFCKLSGINYNEICF...\n",
       "276670    3    4   19   12  MLSCDICGETVTSEPDRKAHLIVHMENEIICPFCKLSGINYNEMCF...\n",
       "276671    2    7   11    1  MSGGKSGTKLSSFQNLQQIGQGGFGVVYSAQRENGEKVAIKKIGNA...\n",
       "276672    2    7   11    1  MSGGKSGSRLSAYSHLKEIGKGGFGVVYAAQRENGEKVAIKRIDKK...\n",
       "\n",
       "[276673 rows x 5 columns]"
      ]
     },
     "execution_count": 10,
     "metadata": {},
     "output_type": "execute_result"
    }
   ],
   "source": [
    "out_df = pd.DataFrame(out_rows)\n",
    "out_df"
   ]
  },
  {
   "cell_type": "code",
   "execution_count": 11,
   "id": "427df412-e005-43c3-b89f-030f91f5cbbc",
   "metadata": {},
   "outputs": [
    {
     "data": {
      "text/html": [
       "<div>\n",
       "<style scoped>\n",
       "    .dataframe tbody tr th:only-of-type {\n",
       "        vertical-align: middle;\n",
       "    }\n",
       "\n",
       "    .dataframe tbody tr th {\n",
       "        vertical-align: top;\n",
       "    }\n",
       "\n",
       "    .dataframe thead th {\n",
       "        text-align: right;\n",
       "    }\n",
       "</style>\n",
       "<table border=\"1\" class=\"dataframe\">\n",
       "  <thead>\n",
       "    <tr style=\"text-align: right;\">\n",
       "      <th></th>\n",
       "      <th>EC1</th>\n",
       "      <th>Sequence</th>\n",
       "    </tr>\n",
       "  </thead>\n",
       "  <tbody>\n",
       "    <tr>\n",
       "      <th>0</th>\n",
       "      <td>3</td>\n",
       "      <td>MDTSPYDFLKLYPWLSRGEADKGTLLDAFPGETFEQSLASDVAMRR...</td>\n",
       "    </tr>\n",
       "    <tr>\n",
       "      <th>1</th>\n",
       "      <td>2</td>\n",
       "      <td>MATNYCDEFERNPTRNPRTGRTIKRGGPVFRALERECSDGAARVFP...</td>\n",
       "    </tr>\n",
       "    <tr>\n",
       "      <th>2</th>\n",
       "      <td>2</td>\n",
       "      <td>MPLSVFAEEFAEKSVKRYIGQGLWLPCNLSDYYYYQEFHDEGGYGS...</td>\n",
       "    </tr>\n",
       "    <tr>\n",
       "      <th>3</th>\n",
       "      <td>3</td>\n",
       "      <td>MAKLLRLNAIDGDMPGAGEADLFTLAPGGKAYVPFAWGSRVLGCKP...</td>\n",
       "    </tr>\n",
       "    <tr>\n",
       "      <th>4</th>\n",
       "      <td>3</td>\n",
       "      <td>MDNETSTPDIFQWCVSPFSKITLKRSMEQRDIVEFRIDATILRQIF...</td>\n",
       "    </tr>\n",
       "    <tr>\n",
       "      <th>...</th>\n",
       "      <td>...</td>\n",
       "      <td>...</td>\n",
       "    </tr>\n",
       "    <tr>\n",
       "      <th>276668</th>\n",
       "      <td>3</td>\n",
       "      <td>MLSCDICGETVTSEPDMKAHLIVHMENEIVCPFCKLSGVSYDEMCF...</td>\n",
       "    </tr>\n",
       "    <tr>\n",
       "      <th>276669</th>\n",
       "      <td>3</td>\n",
       "      <td>MLSCNICGETVNSEPDMKAHLIVHMENEIICPFCKLSGINYNEICF...</td>\n",
       "    </tr>\n",
       "    <tr>\n",
       "      <th>276670</th>\n",
       "      <td>3</td>\n",
       "      <td>MLSCDICGETVTSEPDRKAHLIVHMENEIICPFCKLSGINYNEMCF...</td>\n",
       "    </tr>\n",
       "    <tr>\n",
       "      <th>276671</th>\n",
       "      <td>2</td>\n",
       "      <td>MSGGKSGTKLSSFQNLQQIGQGGFGVVYSAQRENGEKVAIKKIGNA...</td>\n",
       "    </tr>\n",
       "    <tr>\n",
       "      <th>276672</th>\n",
       "      <td>2</td>\n",
       "      <td>MSGGKSGSRLSAYSHLKEIGKGGFGVVYAAQRENGEKVAIKRIDKK...</td>\n",
       "    </tr>\n",
       "  </tbody>\n",
       "</table>\n",
       "<p>276673 rows × 2 columns</p>\n",
       "</div>"
      ],
      "text/plain": [
       "        EC1                                           Sequence\n",
       "0         3  MDTSPYDFLKLYPWLSRGEADKGTLLDAFPGETFEQSLASDVAMRR...\n",
       "1         2  MATNYCDEFERNPTRNPRTGRTIKRGGPVFRALERECSDGAARVFP...\n",
       "2         2  MPLSVFAEEFAEKSVKRYIGQGLWLPCNLSDYYYYQEFHDEGGYGS...\n",
       "3         3  MAKLLRLNAIDGDMPGAGEADLFTLAPGGKAYVPFAWGSRVLGCKP...\n",
       "4         3  MDNETSTPDIFQWCVSPFSKITLKRSMEQRDIVEFRIDATILRQIF...\n",
       "...     ...                                                ...\n",
       "276668    3  MLSCDICGETVTSEPDMKAHLIVHMENEIVCPFCKLSGVSYDEMCF...\n",
       "276669    3  MLSCNICGETVNSEPDMKAHLIVHMENEIICPFCKLSGINYNEICF...\n",
       "276670    3  MLSCDICGETVTSEPDRKAHLIVHMENEIICPFCKLSGINYNEMCF...\n",
       "276671    2  MSGGKSGTKLSSFQNLQQIGQGGFGVVYSAQRENGEKVAIKKIGNA...\n",
       "276672    2  MSGGKSGSRLSAYSHLKEIGKGGFGVVYAAQRENGEKVAIKRIDKK...\n",
       "\n",
       "[276673 rows x 2 columns]"
      ]
     },
     "execution_count": 11,
     "metadata": {},
     "output_type": "execute_result"
    }
   ],
   "source": [
    "# create a dataframe for the level 1 EC number prediction\n",
    "\n",
    "level_1_df = out_df[['EC1', 'Sequence']]\n",
    "level_1_df"
   ]
  },
  {
   "cell_type": "code",
   "execution_count": 12,
   "id": "0f7f26a9-115b-427d-8249-dd96cb51a1f0",
   "metadata": {},
   "outputs": [],
   "source": [
    "from gensim.models import FastText\n",
    "\n",
    "sequences = level_1_df['Sequence']\n",
    "\n",
    "aa_model = FastText(sequences, vector_size=6, window=7, min_count=10)\n",
    "    "
   ]
  },
  {
   "cell_type": "code",
   "execution_count": 13,
   "id": "d719b3d0-3272-4559-ac70-0cc77dddc82a",
   "metadata": {},
   "outputs": [
    {
     "name": "stdout",
     "output_type": "stream",
     "text": [
      "[ 0.22589695 -0.15022601 -0.70326626  0.3192943  -1.6072931  -0.4099239 ]\n",
      "[-0.95430756 -1.1245557  -0.22416764  1.6976514  -1.9886826  -0.01604706]\n"
     ]
    }
   ],
   "source": [
    "print(aa_model.wv['M'])\n",
    "print(aa_model.wv['G'])"
   ]
  },
  {
   "cell_type": "code",
   "execution_count": 15,
   "id": "2725b052-8deb-41ba-bd87-31c249db36a9",
   "metadata": {},
   "outputs": [],
   "source": [
    "aa_model.save('/home/valentin-rexer/uni/UofM/datascience/fast_text.bin')"
   ]
  },
  {
   "cell_type": "code",
   "execution_count": 17,
   "id": "f2bb903f-874b-4e04-80fd-ee6aa8167588",
   "metadata": {},
   "outputs": [],
   "source": [
    "from gensim.models import FastText\n",
    "\n",
    "aa_model = FastText.load('/home/valentin-rexer/uni/UofM/datascience/fast_text.bin')\n",
    "\n",
    "def get_embedded_vector(sequence):\n",
    "    sequence = list(sequence)\n",
    "    vector = [aa_model.wv[amino_acid] for amino_acid in sequence]\n",
    "\n",
    "    return vector"
   ]
  },
  {
   "cell_type": "code",
   "execution_count": 18,
   "id": "2165f02e-ae1e-469d-a9ea-ebd9e7431f02",
   "metadata": {},
   "outputs": [],
   "source": [
    "labels = []\n",
    "sequences =[]\n",
    "\n",
    "for entry in level_1_df.itertuples():\n",
    "\n",
    "    #only process sequences with len 200 or lower for now\n",
    "    if len(entry[2]) > 1000:\n",
    "        continue\n",
    "    \n",
    "    labels.append(entry[1])\n",
    "    sequences.append(get_embedded_vector(entry[2]))"
   ]
  },
  {
   "cell_type": "code",
   "execution_count": 20,
   "id": "98a1d5ec-9161-4a74-a1cf-86341aeae69c",
   "metadata": {},
   "outputs": [],
   "source": [
    "from tensorflow.keras.preprocessing.sequence import pad_sequences\n",
    "\n",
    "sequences = pad_sequences(sequences, padding='post', dtype='float32')"
   ]
  },
  {
   "cell_type": "code",
   "execution_count": 21,
   "id": "dec874b6-a693-4d52-b097-d84c8307ab98",
   "metadata": {},
   "outputs": [
    {
     "name": "stdout",
     "output_type": "stream",
     "text": [
      "(267286, 1000, 6) (267286,)\n"
     ]
    }
   ],
   "source": [
    "import numpy as np\n",
    "\n",
    "X = np.array(sequences)\n",
    "y = np.array(labels)\n",
    "\n",
    "print(X.shape, y.shape)"
   ]
  },
  {
   "cell_type": "code",
   "execution_count": 22,
   "id": "d7e7c734-a0f9-47b7-84ff-41b70aabb796",
   "metadata": {},
   "outputs": [],
   "source": [
    "np_array_store_file = f'/home/valentin-rexer/uni/UofM/datascience/datasets/len_500_data.npz'"
   ]
  },
  {
   "cell_type": "code",
   "execution_count": 23,
   "id": "a4768876-1b6e-4b5a-a2a3-577915ab7eab",
   "metadata": {},
   "outputs": [],
   "source": [
    "np.savez(np_array_store_file, X=X, y=y)"
   ]
  },
  {
   "cell_type": "code",
   "execution_count": null,
   "id": "b2720c62-92ff-4dcb-b092-33923bf35b90",
   "metadata": {},
   "outputs": [],
   "source": []
  }
 ],
 "metadata": {
  "kernelspec": {
   "display_name": "Python 3 (ipykernel)",
   "language": "python",
   "name": "python3"
  },
  "language_info": {
   "codemirror_mode": {
    "name": "ipython",
    "version": 3
   },
   "file_extension": ".py",
   "mimetype": "text/x-python",
   "name": "python",
   "nbconvert_exporter": "python",
   "pygments_lexer": "ipython3",
   "version": "3.12.3"
  }
 },
 "nbformat": 4,
 "nbformat_minor": 5
}
